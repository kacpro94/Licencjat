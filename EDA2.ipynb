{
 "cells": [
  {
   "cell_type": "code",
   "execution_count": 1091,
   "metadata": {},
   "outputs": [],
   "source": [
    "import pandas as pd\n",
    "import numpy as np\n",
    "import seaborn as sns\n",
    "import matplotlib.pyplot as plt\n",
    "from pandas.plotting import scatter_matrix \n",
    "from random import sample"
   ]
  },
  {
   "cell_type": "code",
   "execution_count": 1092,
   "metadata": {},
   "outputs": [
    {
     "name": "stderr",
     "output_type": "stream",
     "text": [
      "C:\\Users\\kacpr\\AppData\\Local\\Temp\\ipykernel_14660\\3093558874.py:1: DtypeWarning: Columns (188,213,242) have mixed types. Specify dtype option on import or set low_memory=False.\n",
      "  df1=pd.read_csv(r'C:\\Users\\kacpr\\OneDrive - Akademia Górniczo-Hutnicza im. Stanisława Staszica w Krakowie\\Licencjat\\Dane\\otomoto_offers_eng_23-04-2023.csv',delimiter=';')\n"
     ]
    }
   ],
   "source": [
    "df1=pd.read_csv(r'C:\\Users\\kacpr\\OneDrive - Akademia Górniczo-Hutnicza im. Stanisława Staszica w Krakowie\\Licencjat\\Dane\\otomoto_offers_eng_23-04-2023.csv',delimiter=';')"
   ]
  },
  {
   "cell_type": "markdown",
   "metadata": {},
   "source": [
    "# Transformacje"
   ]
  },
  {
   "cell_type": "markdown",
   "metadata": {},
   "source": [
    "## usunięcie nadmiarowych kolumn"
   ]
  },
  {
   "cell_type": "code",
   "execution_count": 1093,
   "metadata": {},
   "outputs": [
    {
     "data": {
      "text/plain": [
       "(208205, 243)"
      ]
     },
     "execution_count": 1093,
     "metadata": {},
     "output_type": "execute_result"
    }
   ],
   "source": [
    "df1.shape"
   ]
  },
  {
   "cell_type": "markdown",
   "metadata": {},
   "source": [
    "Dane posiadają 208 tysięcy rekordów oraz 243 kolumny."
   ]
  },
  {
   "cell_type": "markdown",
   "metadata": {},
   "source": [
    "Na początku wybieram 30 pierwszych kolumn, gdyż tutaj znajdują się najważniejsze cechy. W pozostałych 170 kolumnach głownie znajdowały się informację o wyposażeniu samochodu (np. czy posiada radio TRUE/FALSE). Nie zagłębiam się tak dokładnie w predykcję cen, więc usuwam te kolumny i wybiorę tylko kilka najwazniejszych:"
   ]
  },
  {
   "cell_type": "code",
   "execution_count": 1094,
   "metadata": {},
   "outputs": [],
   "source": [
    "df2=df1.iloc[:,0:30].copy()"
   ]
  },
  {
   "cell_type": "code",
   "execution_count": 1095,
   "metadata": {},
   "outputs": [
    {
     "data": {
      "text/plain": [
       "Index(['id', 'offer_creation_date', 'offer_title', 'price', 'currency',\n",
       "       'seller_type', 'seller_registration_year', 'location', 'offer_from',\n",
       "       'category', 'show_offers_with_vin_number', 'vehicle_brand',\n",
       "       'vehicle_model', 'generation', 'production_year', 'mileage',\n",
       "       'engine_displacement', 'fuel_type', 'power', 'transmission',\n",
       "       'body_type', 'number_of_doors', 'number_of_seats', 'color',\n",
       "       'vat_margin', 'financing_possibility', 'state', 'version',\n",
       "       'fuel_consumption_in_city', 'color_type'],\n",
       "      dtype='object')"
      ]
     },
     "execution_count": 1095,
     "metadata": {},
     "output_type": "execute_result"
    }
   ],
   "source": [
    "df2.columns"
   ]
  },
  {
   "cell_type": "markdown",
   "metadata": {},
   "source": [
    "Teraz zajmę się oczyszczaniem tych kolumn. Najpierw dodam kolumny, które będą mi potrzebne do oczyszczenia danych:"
   ]
  },
  {
   "cell_type": "code",
   "execution_count": 1096,
   "metadata": {},
   "outputs": [],
   "source": [
    "df3= pd.concat([df2, df1[['drive_type','no_accident','damaged']]], axis=1)"
   ]
  },
  {
   "cell_type": "markdown",
   "metadata": {},
   "source": [
    "Te kolumny usuwam, ponieważ są zbędne do naszego modelu. "
   ]
  },
  {
   "cell_type": "code",
   "execution_count": 1097,
   "metadata": {},
   "outputs": [],
   "source": [
    "df3=df3.drop(['id','vat_margin','offer_from','category','offer_creation_date','financing_possibility','offer_title','show_offers_with_vin_number','location','version', 'color','color_type','generation'],axis=1).copy()"
   ]
  },
  {
   "cell_type": "markdown",
   "metadata": {},
   "source": [
    "wyrzucam offer_creation_year bo wszystkie dane są z tego samego miesiaca i offer_from bo to to samo co seller type tylko po polsku. Category to po prostu osobowe, wiec tą kolumne tez usuwam. Id bo bez sensu"
   ]
  },
  {
   "cell_type": "markdown",
   "metadata": {},
   "source": [
    "## lista wybranych kolumn"
   ]
  },
  {
   "cell_type": "code",
   "execution_count": 1098,
   "metadata": {},
   "outputs": [
    {
     "data": {
      "text/plain": [
       "Index(['price', 'currency', 'seller_type', 'seller_registration_year',\n",
       "       'vehicle_brand', 'vehicle_model', 'production_year', 'mileage',\n",
       "       'engine_displacement', 'fuel_type', 'power', 'transmission',\n",
       "       'body_type', 'number_of_doors', 'number_of_seats', 'state',\n",
       "       'fuel_consumption_in_city', 'drive_type', 'no_accident', 'damaged'],\n",
       "      dtype='object')"
      ]
     },
     "execution_count": 1098,
     "metadata": {},
     "output_type": "execute_result"
    }
   ],
   "source": [
    "df3.columns"
   ]
  },
  {
   "cell_type": "markdown",
   "metadata": {},
   "source": [
    "## Czyszczenie i edycja danych"
   ]
  },
  {
   "cell_type": "markdown",
   "metadata": {},
   "source": [
    "1. Zmienna 'price' jest w różnych walutach. Zmienię ją na walute PLN"
   ]
  },
  {
   "cell_type": "code",
   "execution_count": 1099,
   "metadata": {},
   "outputs": [],
   "source": [
    "df3['price'] = df3['price'].astype(float)\n",
    "df3.loc[df3['currency'] == 'EUR', 'price'] *= 4.29\n",
    "df3=df3.drop('currency',axis=1)"
   ]
  },
  {
   "cell_type": "markdown",
   "metadata": {},
   "source": [
    "2. Nasze badanie opiera się na samochodach używanych, więc usunę wszystkie nowe samochodu. Cena nowego samochodu może zaburzać nasze modele."
   ]
  },
  {
   "cell_type": "code",
   "execution_count": 1100,
   "metadata": {},
   "outputs": [],
   "source": [
    "filt=(df3['state']=='New')\n",
    "len(df3[filt])\n",
    "df3 = df3.loc[~filt]\n",
    "df3=df3.drop('state',axis=1)"
   ]
  },
  {
   "cell_type": "markdown",
   "metadata": {},
   "source": [
    "20 690 samochodów w naszych danych jest oznaczone jako nowe. Usuwamy je z naszej bazy"
   ]
  },
  {
   "cell_type": "markdown",
   "metadata": {},
   "source": [
    "3. usuwamy pojazdy oznaczone jako 'damaged'oraz 'no_accident'!='Tak', gdyż cieżko jest przewidywac cenę samochodów uszkodzonych"
   ]
  },
  {
   "cell_type": "code",
   "execution_count": 1101,
   "metadata": {},
   "outputs": [
    {
     "data": {
      "text/plain": [
       "79564"
      ]
     },
     "execution_count": 1101,
     "metadata": {},
     "output_type": "execute_result"
    }
   ],
   "source": [
    "filt=(df3['no_accident']=='Tak')\n",
    "df3=df3.loc[~filt]\n",
    "\n",
    "filt=(df3['damaged']=='Tak')\n",
    "df3=df3.loc[~filt]\n",
    "df3=df3.drop('no_accident',axis=1)\n",
    "df3=df3.drop('damaged',axis=1)\n",
    "len(df3)"
   ]
  },
  {
   "cell_type": "markdown",
   "metadata": {},
   "source": [
    "po usunięciu zbędnych wiersz zostaje nam 80 tysięcy rekordów"
   ]
  },
  {
   "cell_type": "markdown",
   "metadata": {},
   "source": [
    "4. Usuwanie miar (moc,pojemnosc silnika,przebieg)"
   ]
  },
  {
   "cell_type": "code",
   "execution_count": 1102,
   "metadata": {},
   "outputs": [],
   "source": [
    "df3['mileage'] = df3['mileage'].str.replace(' km','').str.replace(' ','').astype(float)\n",
    "df3['engine_displacement'] = df3['engine_displacement'].str.replace(' cm3','').str.replace(' ','').astype(float)\n",
    "df3['power'] = df3['power'].str.replace(' KM','').str.replace(' ','').astype(float)"
   ]
  },
  {
   "cell_type": "markdown",
   "metadata": {},
   "source": [
    "5. zmiana kolumny production_year na liczbę wieku samochodu (przyjmuję 2023 jako rok, poniewaz dane są z tego roku)"
   ]
  },
  {
   "cell_type": "code",
   "execution_count": 1103,
   "metadata": {},
   "outputs": [],
   "source": [
    "df3['car_age'] = df3['production_year'].apply(lambda x: 2023 - x)\n",
    "df3=df3.drop('production_year',axis=1)"
   ]
  },
  {
   "cell_type": "markdown",
   "metadata": {},
   "source": [
    "6. zmiana kolumny seller_registration_date na seller_experience (przyjmuje 2023)"
   ]
  },
  {
   "cell_type": "code",
   "execution_count": 1104,
   "metadata": {},
   "outputs": [],
   "source": [
    "df3['seller_experience'] = df3['seller_registration_year'].apply(lambda x: 2023 - x)\n",
    "df3=df3.drop('seller_registration_year',axis=1)"
   ]
  },
  {
   "cell_type": "markdown",
   "metadata": {},
   "source": [
    "Odrazu też wyczyszczę kolumnę seller_experience ponieważ posiada one błędy - serwis OtoMoto powstał w 2004 roku(czyli 19 lat od 2023), a w danych znajduje sie 30 wartości które mają więcej niż 19 lat. Zamienie te wartości na średnią"
   ]
  },
  {
   "cell_type": "code",
   "execution_count": 1105,
   "metadata": {},
   "outputs": [
    {
     "name": "stderr",
     "output_type": "stream",
     "text": [
      "C:\\Users\\kacpr\\AppData\\Local\\Temp\\ipykernel_14660\\3902503771.py:2: FutureWarning: Setting an item of incompatible dtype is deprecated and will raise an error in a future version of pandas. Value '7.177416922226133' has dtype incompatible with int64, please explicitly cast to a compatible dtype first.\n",
      "  df3.loc[filt,'seller_experience']=df3['seller_experience'].mean()\n"
     ]
    }
   ],
   "source": [
    "filt=df3['seller_experience']>19\n",
    "df3.loc[filt,'seller_experience']=df3['seller_experience'].mean()"
   ]
  },
  {
   "cell_type": "markdown",
   "metadata": {},
   "source": [
    "## Podsumowanie czyszczenia i transformacji danych"
   ]
  },
  {
   "cell_type": "markdown",
   "metadata": {},
   "source": [
    "1. Pozbyłem się większości kolumn które zawierały informację czy samochód np. ma elektryczne szyby czy nie (TRUE/FALSE)\n",
    "2. Pozbyłem się potem kolejnych kolumn, które wydawały się zbędnę np. kolor, lokalizacja\n",
    "3. Zmieniłem wszystkie ceny na jedną walutę\n",
    "4. Usunąłem z danych pojazdy oznaczone jako nowe\n",
    "5. Usunąłem pojazdy oznaczone jako 'damaged' albo 'accident'\n",
    "6. Wyczyściłem zmienne liczbowe z miar \n",
    "7. Stworzyłem kolumnę 'car_age'\n",
    "8. Stworzyłem kolumnę seller_experience"
   ]
  },
  {
   "cell_type": "markdown",
   "metadata": {},
   "source": [
    "# Sprawdzenie wartości brakujących i odstających"
   ]
  },
  {
   "cell_type": "code",
   "execution_count": 1106,
   "metadata": {},
   "outputs": [],
   "source": [
    "df4=df3"
   ]
  },
  {
   "cell_type": "code",
   "execution_count": 1107,
   "metadata": {},
   "outputs": [
    {
     "data": {
      "text/plain": [
       "Index(['price', 'seller_type', 'vehicle_brand', 'vehicle_model', 'mileage',\n",
       "       'engine_displacement', 'fuel_type', 'power', 'transmission',\n",
       "       'body_type', 'number_of_doors', 'number_of_seats',\n",
       "       'fuel_consumption_in_city', 'drive_type', 'car_age',\n",
       "       'seller_experience'],\n",
       "      dtype='object')"
      ]
     },
     "execution_count": 1107,
     "metadata": {},
     "output_type": "execute_result"
    }
   ],
   "source": [
    "df4.columns"
   ]
  },
  {
   "cell_type": "code",
   "execution_count": 1190,
   "metadata": {},
   "outputs": [
    {
     "data": {
      "text/plain": [
       "np.False_"
      ]
     },
     "execution_count": 1190,
     "metadata": {},
     "output_type": "execute_result"
    }
   ],
   "source": [
    "df4.isnull().values.any()"
   ]
  },
  {
   "cell_type": "markdown",
   "metadata": {},
   "source": [
    "### Engine_displacement"
   ]
  },
  {
   "cell_type": "code",
   "execution_count": 1109,
   "metadata": {},
   "outputs": [
    {
     "data": {
      "text/plain": [
       "np.int64(531)"
      ]
     },
     "execution_count": 1109,
     "metadata": {},
     "output_type": "execute_result"
    }
   ],
   "source": [
    "df4['engine_displacement'].isnull().sum()"
   ]
  },
  {
   "cell_type": "code",
   "execution_count": 1110,
   "metadata": {},
   "outputs": [],
   "source": [
    "filt=(df4['fuel_type']=='Electric') | (df4['fuel_type']=='Hyrdrogen') "
   ]
  },
  {
   "cell_type": "code",
   "execution_count": 1111,
   "metadata": {},
   "outputs": [
    {
     "data": {
      "text/html": [
       "<div>\n",
       "<style scoped>\n",
       "    .dataframe tbody tr th:only-of-type {\n",
       "        vertical-align: middle;\n",
       "    }\n",
       "\n",
       "    .dataframe tbody tr th {\n",
       "        vertical-align: top;\n",
       "    }\n",
       "\n",
       "    .dataframe thead th {\n",
       "        text-align: right;\n",
       "    }\n",
       "</style>\n",
       "<table border=\"1\" class=\"dataframe\">\n",
       "  <thead>\n",
       "    <tr style=\"text-align: right;\">\n",
       "      <th></th>\n",
       "      <th>price</th>\n",
       "      <th>seller_type</th>\n",
       "      <th>vehicle_brand</th>\n",
       "      <th>vehicle_model</th>\n",
       "      <th>mileage</th>\n",
       "      <th>engine_displacement</th>\n",
       "      <th>fuel_type</th>\n",
       "      <th>power</th>\n",
       "      <th>transmission</th>\n",
       "      <th>body_type</th>\n",
       "      <th>number_of_doors</th>\n",
       "      <th>number_of_seats</th>\n",
       "      <th>fuel_consumption_in_city</th>\n",
       "      <th>drive_type</th>\n",
       "      <th>car_age</th>\n",
       "      <th>seller_experience</th>\n",
       "    </tr>\n",
       "  </thead>\n",
       "  <tbody>\n",
       "    <tr>\n",
       "      <th>26</th>\n",
       "      <td>73500.0</td>\n",
       "      <td>Private person</td>\n",
       "      <td>BMW</td>\n",
       "      <td>i3</td>\n",
       "      <td>32000.0</td>\n",
       "      <td>NaN</td>\n",
       "      <td>Electric</td>\n",
       "      <td>170.0</td>\n",
       "      <td>Automatic</td>\n",
       "      <td>Compact</td>\n",
       "      <td>5.0</td>\n",
       "      <td>4.0</td>\n",
       "      <td>NaN</td>\n",
       "      <td>Front wheels</td>\n",
       "      <td>9</td>\n",
       "      <td>0.0</td>\n",
       "    </tr>\n",
       "    <tr>\n",
       "      <th>456</th>\n",
       "      <td>184900.0</td>\n",
       "      <td>Private person</td>\n",
       "      <td>Tesla</td>\n",
       "      <td>Model S</td>\n",
       "      <td>206000.0</td>\n",
       "      <td>NaN</td>\n",
       "      <td>Electric</td>\n",
       "      <td>378.0</td>\n",
       "      <td>Automatic</td>\n",
       "      <td>Compact</td>\n",
       "      <td>5.0</td>\n",
       "      <td>5.0</td>\n",
       "      <td>NaN</td>\n",
       "      <td>NaN</td>\n",
       "      <td>8</td>\n",
       "      <td>9.0</td>\n",
       "    </tr>\n",
       "    <tr>\n",
       "      <th>588</th>\n",
       "      <td>64999.0</td>\n",
       "      <td>Private person</td>\n",
       "      <td>Renault</td>\n",
       "      <td>Twingo</td>\n",
       "      <td>6800.0</td>\n",
       "      <td>NaN</td>\n",
       "      <td>Electric</td>\n",
       "      <td>82.0</td>\n",
       "      <td>Automatic</td>\n",
       "      <td>Small cars</td>\n",
       "      <td>5.0</td>\n",
       "      <td>4.0</td>\n",
       "      <td>NaN</td>\n",
       "      <td>Front wheels</td>\n",
       "      <td>2</td>\n",
       "      <td>9.0</td>\n",
       "    </tr>\n",
       "    <tr>\n",
       "      <th>944</th>\n",
       "      <td>105900.0</td>\n",
       "      <td>Dealer</td>\n",
       "      <td>Nissan</td>\n",
       "      <td>Leaf</td>\n",
       "      <td>28908.0</td>\n",
       "      <td>NaN</td>\n",
       "      <td>Electric</td>\n",
       "      <td>150.0</td>\n",
       "      <td>Automatic</td>\n",
       "      <td>City cars</td>\n",
       "      <td>5.0</td>\n",
       "      <td>5.0</td>\n",
       "      <td>NaN</td>\n",
       "      <td>Front wheels</td>\n",
       "      <td>4</td>\n",
       "      <td>3.0</td>\n",
       "    </tr>\n",
       "    <tr>\n",
       "      <th>1008</th>\n",
       "      <td>50000.0</td>\n",
       "      <td>Private person</td>\n",
       "      <td>Nissan</td>\n",
       "      <td>Leaf</td>\n",
       "      <td>95000.0</td>\n",
       "      <td>NaN</td>\n",
       "      <td>Electric</td>\n",
       "      <td>109.0</td>\n",
       "      <td>Automatic</td>\n",
       "      <td>City cars</td>\n",
       "      <td>5.0</td>\n",
       "      <td>5.0</td>\n",
       "      <td>NaN</td>\n",
       "      <td>Front wheels</td>\n",
       "      <td>7</td>\n",
       "      <td>7.0</td>\n",
       "    </tr>\n",
       "    <tr>\n",
       "      <th>...</th>\n",
       "      <td>...</td>\n",
       "      <td>...</td>\n",
       "      <td>...</td>\n",
       "      <td>...</td>\n",
       "      <td>...</td>\n",
       "      <td>...</td>\n",
       "      <td>...</td>\n",
       "      <td>...</td>\n",
       "      <td>...</td>\n",
       "      <td>...</td>\n",
       "      <td>...</td>\n",
       "      <td>...</td>\n",
       "      <td>...</td>\n",
       "      <td>...</td>\n",
       "      <td>...</td>\n",
       "      <td>...</td>\n",
       "    </tr>\n",
       "    <tr>\n",
       "      <th>205305</th>\n",
       "      <td>122600.0</td>\n",
       "      <td>Private person</td>\n",
       "      <td>Hyundai</td>\n",
       "      <td>Kona</td>\n",
       "      <td>44000.0</td>\n",
       "      <td>NaN</td>\n",
       "      <td>Electric</td>\n",
       "      <td>204.0</td>\n",
       "      <td>Automatic</td>\n",
       "      <td>SUV</td>\n",
       "      <td>5.0</td>\n",
       "      <td>5.0</td>\n",
       "      <td>NaN</td>\n",
       "      <td>NaN</td>\n",
       "      <td>2</td>\n",
       "      <td>5.0</td>\n",
       "    </tr>\n",
       "    <tr>\n",
       "      <th>205885</th>\n",
       "      <td>179900.0</td>\n",
       "      <td>Dealer</td>\n",
       "      <td>Tesla</td>\n",
       "      <td>Model 3</td>\n",
       "      <td>49500.0</td>\n",
       "      <td>NaN</td>\n",
       "      <td>Electric</td>\n",
       "      <td>512.0</td>\n",
       "      <td>Automatic</td>\n",
       "      <td>Sedan</td>\n",
       "      <td>4.0</td>\n",
       "      <td>5.0</td>\n",
       "      <td>NaN</td>\n",
       "      <td>4x4 (fixed)</td>\n",
       "      <td>3</td>\n",
       "      <td>6.0</td>\n",
       "    </tr>\n",
       "    <tr>\n",
       "      <th>206734</th>\n",
       "      <td>184999.0</td>\n",
       "      <td>Dealer</td>\n",
       "      <td>Tesla</td>\n",
       "      <td>Model 3</td>\n",
       "      <td>69000.0</td>\n",
       "      <td>NaN</td>\n",
       "      <td>Electric</td>\n",
       "      <td>497.0</td>\n",
       "      <td>Automatic</td>\n",
       "      <td>Sedan</td>\n",
       "      <td>4.0</td>\n",
       "      <td>5.0</td>\n",
       "      <td>NaN</td>\n",
       "      <td>4x4 (fixed)</td>\n",
       "      <td>3</td>\n",
       "      <td>3.0</td>\n",
       "    </tr>\n",
       "    <tr>\n",
       "      <th>207639</th>\n",
       "      <td>74900.0</td>\n",
       "      <td>Private person</td>\n",
       "      <td>Renault</td>\n",
       "      <td>Zoe</td>\n",
       "      <td>23200.0</td>\n",
       "      <td>NaN</td>\n",
       "      <td>Electric</td>\n",
       "      <td>109.0</td>\n",
       "      <td>Automatic</td>\n",
       "      <td>Compact</td>\n",
       "      <td>5.0</td>\n",
       "      <td>NaN</td>\n",
       "      <td>NaN</td>\n",
       "      <td>NaN</td>\n",
       "      <td>5</td>\n",
       "      <td>9.0</td>\n",
       "    </tr>\n",
       "    <tr>\n",
       "      <th>207806</th>\n",
       "      <td>143000.0</td>\n",
       "      <td>Private person</td>\n",
       "      <td>Hyundai</td>\n",
       "      <td>Kona</td>\n",
       "      <td>33000.0</td>\n",
       "      <td>NaN</td>\n",
       "      <td>Electric</td>\n",
       "      <td>204.0</td>\n",
       "      <td>Automatic</td>\n",
       "      <td>SUV</td>\n",
       "      <td>5.0</td>\n",
       "      <td>5.0</td>\n",
       "      <td>NaN</td>\n",
       "      <td>NaN</td>\n",
       "      <td>3</td>\n",
       "      <td>0.0</td>\n",
       "    </tr>\n",
       "  </tbody>\n",
       "</table>\n",
       "<p>508 rows × 16 columns</p>\n",
       "</div>"
      ],
      "text/plain": [
       "           price     seller_type vehicle_brand vehicle_model   mileage  \\\n",
       "26       73500.0  Private person           BMW            i3   32000.0   \n",
       "456     184900.0  Private person         Tesla       Model S  206000.0   \n",
       "588      64999.0  Private person       Renault        Twingo    6800.0   \n",
       "944     105900.0          Dealer        Nissan          Leaf   28908.0   \n",
       "1008     50000.0  Private person        Nissan          Leaf   95000.0   \n",
       "...          ...             ...           ...           ...       ...   \n",
       "205305  122600.0  Private person       Hyundai          Kona   44000.0   \n",
       "205885  179900.0          Dealer         Tesla       Model 3   49500.0   \n",
       "206734  184999.0          Dealer         Tesla       Model 3   69000.0   \n",
       "207639   74900.0  Private person       Renault           Zoe   23200.0   \n",
       "207806  143000.0  Private person       Hyundai          Kona   33000.0   \n",
       "\n",
       "        engine_displacement fuel_type  power transmission   body_type  \\\n",
       "26                      NaN  Electric  170.0    Automatic     Compact   \n",
       "456                     NaN  Electric  378.0    Automatic     Compact   \n",
       "588                     NaN  Electric   82.0    Automatic  Small cars   \n",
       "944                     NaN  Electric  150.0    Automatic   City cars   \n",
       "1008                    NaN  Electric  109.0    Automatic   City cars   \n",
       "...                     ...       ...    ...          ...         ...   \n",
       "205305                  NaN  Electric  204.0    Automatic         SUV   \n",
       "205885                  NaN  Electric  512.0    Automatic       Sedan   \n",
       "206734                  NaN  Electric  497.0    Automatic       Sedan   \n",
       "207639                  NaN  Electric  109.0    Automatic     Compact   \n",
       "207806                  NaN  Electric  204.0    Automatic         SUV   \n",
       "\n",
       "        number_of_doors  number_of_seats fuel_consumption_in_city  \\\n",
       "26                  5.0              4.0                      NaN   \n",
       "456                 5.0              5.0                      NaN   \n",
       "588                 5.0              4.0                      NaN   \n",
       "944                 5.0              5.0                      NaN   \n",
       "1008                5.0              5.0                      NaN   \n",
       "...                 ...              ...                      ...   \n",
       "205305              5.0              5.0                      NaN   \n",
       "205885              4.0              5.0                      NaN   \n",
       "206734              4.0              5.0                      NaN   \n",
       "207639              5.0              NaN                      NaN   \n",
       "207806              5.0              5.0                      NaN   \n",
       "\n",
       "          drive_type  car_age  seller_experience  \n",
       "26      Front wheels        9                0.0  \n",
       "456              NaN        8                9.0  \n",
       "588     Front wheels        2                9.0  \n",
       "944     Front wheels        4                3.0  \n",
       "1008    Front wheels        7                7.0  \n",
       "...              ...      ...                ...  \n",
       "205305           NaN        2                5.0  \n",
       "205885   4x4 (fixed)        3                6.0  \n",
       "206734   4x4 (fixed)        3                3.0  \n",
       "207639           NaN        5                9.0  \n",
       "207806           NaN        3                0.0  \n",
       "\n",
       "[508 rows x 16 columns]"
      ]
     },
     "execution_count": 1111,
     "metadata": {},
     "output_type": "execute_result"
    }
   ],
   "source": [
    "df4.loc[filt]"
   ]
  },
  {
   "cell_type": "markdown",
   "metadata": {},
   "source": [
    "508 z 531 brakujących danych to samochody elektryczne które nie posiadają pojemności silnika, więc zamieniam wartości na 0"
   ]
  },
  {
   "cell_type": "code",
   "execution_count": 1112,
   "metadata": {},
   "outputs": [],
   "source": [
    "df4.loc[filt,'engine_displacement']=0"
   ]
  },
  {
   "cell_type": "markdown",
   "metadata": {},
   "source": [
    "resztę samochodów które miały braki uzupełniam średnią z kolumny engine displacement"
   ]
  },
  {
   "cell_type": "code",
   "execution_count": 1113,
   "metadata": {},
   "outputs": [
    {
     "data": {
      "text/plain": [
       "np.int64(23)"
      ]
     },
     "execution_count": 1113,
     "metadata": {},
     "output_type": "execute_result"
    }
   ],
   "source": [
    "df4['engine_displacement'].isnull().sum()"
   ]
  },
  {
   "cell_type": "code",
   "execution_count": 1114,
   "metadata": {},
   "outputs": [],
   "source": [
    "df4['engine_displacement'] = df4['engine_displacement'].fillna(df4['engine_displacement'].mean())"
   ]
  },
  {
   "cell_type": "markdown",
   "metadata": {},
   "source": [
    "### Number of doors"
   ]
  },
  {
   "cell_type": "code",
   "execution_count": 1115,
   "metadata": {},
   "outputs": [
    {
     "data": {
      "text/plain": [
       "np.int64(557)"
      ]
     },
     "execution_count": 1115,
     "metadata": {},
     "output_type": "execute_result"
    }
   ],
   "source": [
    "df4['number_of_doors'].isnull().sum()"
   ]
  },
  {
   "cell_type": "markdown",
   "metadata": {},
   "source": [
    "liczba drzwi zostawiam i z racji ze liczba brakow jest mala to usuwam wiersze z brakami"
   ]
  },
  {
   "cell_type": "code",
   "execution_count": 1116,
   "metadata": {},
   "outputs": [],
   "source": [
    "filt = df4['number_of_doors'].isnull()\n",
    "df4 = df4.loc[~filt]"
   ]
  },
  {
   "cell_type": "markdown",
   "metadata": {},
   "source": [
    "### Number of seats"
   ]
  },
  {
   "cell_type": "code",
   "execution_count": 1117,
   "metadata": {},
   "outputs": [
    {
     "data": {
      "text/plain": [
       "np.int64(5971)"
      ]
     },
     "execution_count": 1117,
     "metadata": {},
     "output_type": "execute_result"
    }
   ],
   "source": [
    "df4['number_of_seats'].isnull().sum()"
   ]
  },
  {
   "cell_type": "markdown",
   "metadata": {},
   "source": [
    "jest sporo braków więc tą kolumnę usuwam"
   ]
  },
  {
   "cell_type": "code",
   "execution_count": 1118,
   "metadata": {},
   "outputs": [],
   "source": [
    "df4=df4.drop('number_of_seats',axis=1)"
   ]
  },
  {
   "cell_type": "markdown",
   "metadata": {},
   "source": [
    "### Fuel consumption"
   ]
  },
  {
   "cell_type": "code",
   "execution_count": 1119,
   "metadata": {},
   "outputs": [
    {
     "data": {
      "text/plain": [
       "np.int64(30285)"
      ]
     },
     "execution_count": 1119,
     "metadata": {},
     "output_type": "execute_result"
    }
   ],
   "source": [
    "df4['fuel_consumption_in_city'].isnull().sum()"
   ]
  },
  {
   "cell_type": "markdown",
   "metadata": {},
   "source": [
    "niestety tutaj też musze usunąc kolumnę bo ponad połowa to braki"
   ]
  },
  {
   "cell_type": "code",
   "execution_count": 1120,
   "metadata": {},
   "outputs": [],
   "source": [
    "df4=df4.drop('fuel_consumption_in_city',axis=1)"
   ]
  },
  {
   "cell_type": "markdown",
   "metadata": {},
   "source": [
    "### Drive type"
   ]
  },
  {
   "cell_type": "code",
   "execution_count": 1121,
   "metadata": {},
   "outputs": [
    {
     "data": {
      "text/plain": [
       "np.int64(20973)"
      ]
     },
     "execution_count": 1121,
     "metadata": {},
     "output_type": "execute_result"
    }
   ],
   "source": [
    "df4['drive_type'].isnull().sum()"
   ]
  },
  {
   "cell_type": "markdown",
   "metadata": {},
   "source": [
    "tutaj też usuwam bo bardzo dużo braków"
   ]
  },
  {
   "cell_type": "code",
   "execution_count": 1122,
   "metadata": {},
   "outputs": [],
   "source": [
    "df4=df4.drop('drive_type',axis=1)"
   ]
  },
  {
   "cell_type": "code",
   "execution_count": 1123,
   "metadata": {},
   "outputs": [
    {
     "data": {
      "text/plain": [
       "np.True_"
      ]
     },
     "execution_count": 1123,
     "metadata": {},
     "output_type": "execute_result"
    }
   ],
   "source": [
    "df4.isnull().values.any()"
   ]
  },
  {
   "cell_type": "code",
   "execution_count": 1124,
   "metadata": {},
   "outputs": [],
   "source": [
    "new_data = df4.dropna(axis=0, how='any')"
   ]
  },
  {
   "cell_type": "code",
   "execution_count": 1125,
   "metadata": {},
   "outputs": [
    {
     "data": {
      "text/plain": [
       "0.01645423823205539"
      ]
     },
     "execution_count": 1125,
     "metadata": {},
     "output_type": "execute_result"
    }
   ],
   "source": [
    "((len(df4)-len(new_data))/len(df4))*100"
   ]
  },
  {
   "cell_type": "markdown",
   "metadata": {},
   "source": [
    "Około 0.016 % danych miało jakieś wartości brakujące. Z uwagi na fakt, że jest to bardzo mała liczba to usuwam całe wiersze z danych"
   ]
  },
  {
   "cell_type": "code",
   "execution_count": 1126,
   "metadata": {},
   "outputs": [],
   "source": [
    "df4=new_data.copy()"
   ]
  },
  {
   "cell_type": "code",
   "execution_count": 1127,
   "metadata": {},
   "outputs": [
    {
     "data": {
      "text/plain": [
       "78994"
      ]
     },
     "execution_count": 1127,
     "metadata": {},
     "output_type": "execute_result"
    }
   ],
   "source": [
    "len(df4)"
   ]
  },
  {
   "cell_type": "markdown",
   "metadata": {},
   "source": [
    "### Wartosci odstające"
   ]
  },
  {
   "cell_type": "code",
   "execution_count": 1128,
   "metadata": {},
   "outputs": [],
   "source": [
    "filt=df4['price']>1500000\n",
    "df4=df4.loc[~filt]"
   ]
  },
  {
   "cell_type": "markdown",
   "metadata": {},
   "source": [
    "Pozbywam się aut powyżej 1500000 zł z racji że są to wartości odstające"
   ]
  },
  {
   "cell_type": "code",
   "execution_count": 1129,
   "metadata": {},
   "outputs": [],
   "source": [
    "filt=df4['power']>800\n",
    "df4=df4.loc[~filt]"
   ]
  },
  {
   "cell_type": "markdown",
   "metadata": {},
   "source": [
    "Usuwam samochody >800 koni"
   ]
  },
  {
   "cell_type": "code",
   "execution_count": 1130,
   "metadata": {},
   "outputs": [],
   "source": [
    "filt=df4['mileage']>1500000\n",
    "df4=df4.loc[~filt]"
   ]
  },
  {
   "cell_type": "markdown",
   "metadata": {},
   "source": [
    "Usuwam auta >1500000 km przebiegu"
   ]
  },
  {
   "cell_type": "markdown",
   "metadata": {},
   "source": [
    "### Wybranie 10 najliczniejszych producentów"
   ]
  },
  {
   "cell_type": "markdown",
   "metadata": {},
   "source": [
    "mamy 87 producentów samochodów, lecz w moim badaniu skupię się na 10 najliczniejszych"
   ]
  },
  {
   "cell_type": "code",
   "execution_count": 1131,
   "metadata": {},
   "outputs": [],
   "source": [
    "list=df4['vehicle_brand'].value_counts().head(10).sort_values(ascending=False)"
   ]
  },
  {
   "cell_type": "code",
   "execution_count": 1132,
   "metadata": {},
   "outputs": [],
   "source": [
    "filt=df4['vehicle_brand'].isin(list.index)"
   ]
  },
  {
   "cell_type": "code",
   "execution_count": 1133,
   "metadata": {},
   "outputs": [],
   "source": [
    "df5=df4.loc[filt]"
   ]
  },
  {
   "cell_type": "markdown",
   "metadata": {},
   "source": [
    "Wybieram od każdego producenta 3 najpopularniejsze modele samochodów"
   ]
  },
  {
   "cell_type": "code",
   "execution_count": 1134,
   "metadata": {},
   "outputs": [
    {
     "data": {
      "text/plain": [
       "51697"
      ]
     },
     "execution_count": 1134,
     "metadata": {},
     "output_type": "execute_result"
    }
   ],
   "source": [
    "len(df5)"
   ]
  },
  {
   "cell_type": "markdown",
   "metadata": {},
   "source": [
    "Zmiana na kategoryczne zmienne"
   ]
  },
  {
   "cell_type": "code",
   "execution_count": 1135,
   "metadata": {},
   "outputs": [
    {
     "data": {
      "text/plain": [
       "Index(['price', 'seller_type', 'vehicle_brand', 'vehicle_model', 'mileage',\n",
       "       'engine_displacement', 'fuel_type', 'power', 'transmission',\n",
       "       'body_type', 'number_of_doors', 'car_age', 'seller_experience'],\n",
       "      dtype='object')"
      ]
     },
     "execution_count": 1135,
     "metadata": {},
     "output_type": "execute_result"
    }
   ],
   "source": [
    "df4.columns"
   ]
  },
  {
   "cell_type": "code",
   "execution_count": 1136,
   "metadata": {},
   "outputs": [
    {
     "name": "stderr",
     "output_type": "stream",
     "text": [
      "C:\\Users\\kacpr\\AppData\\Local\\Temp\\ipykernel_14660\\2553443733.py:2: SettingWithCopyWarning: \n",
      "A value is trying to be set on a copy of a slice from a DataFrame.\n",
      "Try using .loc[row_indexer,col_indexer] = value instead\n",
      "\n",
      "See the caveats in the documentation: https://pandas.pydata.org/pandas-docs/stable/user_guide/indexing.html#returning-a-view-versus-a-copy\n",
      "  df5[categorical_columns] = df5[categorical_columns].astype('category')\n"
     ]
    }
   ],
   "source": [
    "categorical_columns = ['seller_type', 'vehicle_brand', 'fuel_type','vehicle_model', 'transmission', 'body_type','number_of_doors']\n",
    "df5[categorical_columns] = df5[categorical_columns].astype('category')"
   ]
  },
  {
   "cell_type": "markdown",
   "metadata": {},
   "source": [
    "## Podsumowanie usuwania braków i wartości odstających"
   ]
  },
  {
   "cell_type": "markdown",
   "metadata": {},
   "source": [
    "1. Usunięta została kolumna 'engine_displacment' (pojemność silnika) z uwagi na fakt, że samochody elektryczne nie posiadają pojemności.\n",
    "2. Usunięte zostały wiersze, w których znalazła się jakakolwiek kolumna z brakiem danych. Takich sytuacji było około 500, co stanowi 0.03% danych, które usuwamy\n",
    "3. Podzieliłem dane na 2 warianty - w jednym na zmienną 'price' nałożyłem logarytm naturalny (co pomogło usunąć skośność rozkładu), a drugi zestaw danych pozostał bez zmian w kolumnie y\n",
    "4. Następnie metodą IQR (poniżej Q25 kwartla i powyzej Q75 kwartla) zostały usunięte wartości w dwóch zestawach danych. W danych bez logarytmu usunięte zostało 5 tysięcy danych, a w danych z logarytmem 500 danych\n",
    "5. Następnie wybrałem 15 najliczniejszych producentów (aby nie doszło do sytuacji, gdzie jakiś producent ma 1 auto w zestawie danych). \n",
    "6. Zmieniłem typ danych kategorycznych na 'category'"
   ]
  },
  {
   "cell_type": "markdown",
   "metadata": {},
   "source": [
    "# EDA i korelacje"
   ]
  },
  {
   "cell_type": "code",
   "execution_count": 1137,
   "metadata": {},
   "outputs": [
    {
     "data": {
      "text/plain": [
       "array([[<Axes: xlabel='price', ylabel='price'>,\n",
       "        <Axes: xlabel='mileage', ylabel='price'>,\n",
       "        <Axes: xlabel='engine_displacement', ylabel='price'>,\n",
       "        <Axes: xlabel='power', ylabel='price'>,\n",
       "        <Axes: xlabel='car_age', ylabel='price'>,\n",
       "        <Axes: xlabel='seller_experience', ylabel='price'>],\n",
       "       [<Axes: xlabel='price', ylabel='mileage'>,\n",
       "        <Axes: xlabel='mileage', ylabel='mileage'>,\n",
       "        <Axes: xlabel='engine_displacement', ylabel='mileage'>,\n",
       "        <Axes: xlabel='power', ylabel='mileage'>,\n",
       "        <Axes: xlabel='car_age', ylabel='mileage'>,\n",
       "        <Axes: xlabel='seller_experience', ylabel='mileage'>],\n",
       "       [<Axes: xlabel='price', ylabel='engine_displacement'>,\n",
       "        <Axes: xlabel='mileage', ylabel='engine_displacement'>,\n",
       "        <Axes: xlabel='engine_displacement', ylabel='engine_displacement'>,\n",
       "        <Axes: xlabel='power', ylabel='engine_displacement'>,\n",
       "        <Axes: xlabel='car_age', ylabel='engine_displacement'>,\n",
       "        <Axes: xlabel='seller_experience', ylabel='engine_displacement'>],\n",
       "       [<Axes: xlabel='price', ylabel='power'>,\n",
       "        <Axes: xlabel='mileage', ylabel='power'>,\n",
       "        <Axes: xlabel='engine_displacement', ylabel='power'>,\n",
       "        <Axes: xlabel='power', ylabel='power'>,\n",
       "        <Axes: xlabel='car_age', ylabel='power'>,\n",
       "        <Axes: xlabel='seller_experience', ylabel='power'>],\n",
       "       [<Axes: xlabel='price', ylabel='car_age'>,\n",
       "        <Axes: xlabel='mileage', ylabel='car_age'>,\n",
       "        <Axes: xlabel='engine_displacement', ylabel='car_age'>,\n",
       "        <Axes: xlabel='power', ylabel='car_age'>,\n",
       "        <Axes: xlabel='car_age', ylabel='car_age'>,\n",
       "        <Axes: xlabel='seller_experience', ylabel='car_age'>],\n",
       "       [<Axes: xlabel='price', ylabel='seller_experience'>,\n",
       "        <Axes: xlabel='mileage', ylabel='seller_experience'>,\n",
       "        <Axes: xlabel='engine_displacement', ylabel='seller_experience'>,\n",
       "        <Axes: xlabel='power', ylabel='seller_experience'>,\n",
       "        <Axes: xlabel='car_age', ylabel='seller_experience'>,\n",
       "        <Axes: xlabel='seller_experience', ylabel='seller_experience'>]],\n",
       "      dtype=object)"
      ]
     },
     "execution_count": 1137,
     "metadata": {},
     "output_type": "execute_result"
    },
    {
     "data": {
      "image/png": "[encoded data removed]",
      "text/plain": [
       "<Figure size 640x480 with 36 Axes>"
      ]
     },
     "metadata": {},
     "output_type": "display_data"
    }
   ],
   "source": [
    "scatter_matrix(df5)"
   ]
  },
  {
   "cell_type": "code",
   "execution_count": 1138,
   "metadata": {},
   "outputs": [
    {
     "data": {
      "text/plain": [
       "Text(0.5, 1.0, 'Liczność producenta samochodów')"
      ]
     },
     "execution_count": 1138,
     "metadata": {},
     "output_type": "execute_result"
    },
    {
     "data": {
      "image/png": "[encoded data removed]",
      "text/plain": [
       "<Figure size 640x480 with 1 Axes>"
      ]
     },
     "metadata": {},
     "output_type": "display_data"
    }
   ],
   "source": [
    "plt.figure()\n",
    "sns.countplot(y=df5['vehicle_brand'],order=list.index)\n",
    "plt.title('Liczność producenta samochodów')"
   ]
  },
  {
   "cell_type": "markdown",
   "metadata": {},
   "source": [
    "## Czy cena zależy od marki auta?"
   ]
  },
  {
   "cell_type": "code",
   "execution_count": 1139,
   "metadata": {},
   "outputs": [
    {
     "data": {
      "image/png": "[encoded data removed]",
      "text/plain": [
       "<Figure size 640x480 with 1 Axes>"
      ]
     },
     "metadata": {},
     "output_type": "display_data"
    }
   ],
   "source": [
    "plt.figure()\n",
    "sns.barplot(x=df5['price'], y=df5['vehicle_brand'], orient='h')\n",
    "plt.title('Marka auta a cena')\n",
    "plt.show()"
   ]
  },
  {
   "cell_type": "markdown",
   "metadata": {},
   "source": [
    "Najdroższymi markami są: Volvo, Audi, BMW i Mercedes-Benz, czyli samochody klasy 'premium'. Najtańsze marki to Opel i Renault."
   ]
  },
  {
   "cell_type": "markdown",
   "metadata": {},
   "source": [
    "## Typ paliwa"
   ]
  },
  {
   "cell_type": "code",
   "execution_count": 1140,
   "metadata": {},
   "outputs": [
    {
     "data": {
      "text/plain": [
       "fuel_type\n",
       "Diesel            25153\n",
       "Gasoline          22930\n",
       "Gasoline + LPG     2008\n",
       "Hybrid             1369\n",
       "Electric            203\n",
       "Gasoline + CNG       33\n",
       "Hydrogen              1\n",
       "Name: count, dtype: int64"
      ]
     },
     "execution_count": 1140,
     "metadata": {},
     "output_type": "execute_result"
    }
   ],
   "source": [
    "df5['fuel_type'].value_counts()"
   ]
  },
  {
   "cell_type": "markdown",
   "metadata": {},
   "source": [
    "z racji że w danych znajduje się tylko jeden samochód o napędzie wodorowym to pozbędziemy się go "
   ]
  },
  {
   "cell_type": "code",
   "execution_count": 1141,
   "metadata": {},
   "outputs": [],
   "source": [
    "filt=(df5['fuel_type']=='Hydrogen')\n",
    "df5=df5.loc[~filt]"
   ]
  },
  {
   "cell_type": "code",
   "execution_count": 1142,
   "metadata": {},
   "outputs": [
    {
     "data": {
      "image/png": "[encoded data removed]",
      "text/plain": [
       "<Figure size 640x480 with 1 Axes>"
      ]
     },
     "metadata": {},
     "output_type": "display_data"
    }
   ],
   "source": [
    "plt.figure()\n",
    "sns.barplot(x=df5['fuel_type'],y=df5['price'])\n",
    "plt.title('Typ napędu a cena auta')\n",
    "plt.show()"
   ]
  },
  {
   "cell_type": "code",
   "execution_count": 1143,
   "metadata": {},
   "outputs": [
    {
     "data": {
      "image/png": "[encoded data removed]",
      "text/plain": [
       "<Figure size 640x480 with 1 Axes>"
      ]
     },
     "metadata": {},
     "output_type": "display_data"
    }
   ],
   "source": [
    "plt.figure()\n",
    "sns.scatterplot(x=df5['price'],y=df5['power'])\n",
    "plt.title('cena auta a jego moc')\n",
    "plt.show()"
   ]
  },
  {
   "cell_type": "markdown",
   "metadata": {},
   "source": [
    "## Macierze korelacji"
   ]
  },
  {
   "cell_type": "markdown",
   "metadata": {},
   "source": [
    "Usuwam z macierzy kolumnę vehicle_model, gdyż po analizie korelacji raczej inne cechy są dominujące a model samochodu nie ma wielkiego wpływu na cenę (bardziej marka, dlatego markę zostawiam w badaniu)"
   ]
  },
  {
   "cell_type": "markdown",
   "metadata": {},
   "source": [
    "Tak prezentuje się macierz korelacji zmiennych. Jeśli chodzi o zmienną price to najsilniejsze korelacje widzimy ze zmiennymi: car_age,milage,power,body_type"
   ]
  },
  {
   "cell_type": "code",
   "execution_count": 1144,
   "metadata": {},
   "outputs": [
    {
     "data": {
      "image/png": "[encoded data removed]",
      "text/plain": [
       "<Figure size 1000x800 with 2 Axes>"
      ]
     },
     "metadata": {},
     "output_type": "display_data"
    }
   ],
   "source": [
    "plt.figure(figsize=(10, 8))\n",
    "sns.heatmap(df5[['price', 'power', 'mileage', 'car_age','engine_displacement','seller_experience']].corr(), annot=True, cmap='coolwarm', square=True)\n",
    "plt.title('Macierz korelacji')\n",
    "plt.show()"
   ]
  },
  {
   "cell_type": "markdown",
   "metadata": {},
   "source": [
    "## Podsumowanie rozdziału EDA i korelacje"
   ]
  },
  {
   "cell_type": "markdown",
   "metadata": {},
   "source": [
    "1. Na początku przedstawiłem kilka wykresów. Będzie ich więcej w późniejszym etapie.\n",
    "2. Okazało się, że w naszych danych jest tylko jedno auto na wodór, więc je usuwam\n",
    "3. Przeprowadzona analiza korelacji - usunięcie kolumny model auta, gdyż jest to zbytnie zagłebianie się w szczegóły a korelacje nie są znaczące"
   ]
  },
  {
   "cell_type": "markdown",
   "metadata": {},
   "source": [
    "# Skalowanie cech numerycznych"
   ]
  },
  {
   "cell_type": "markdown",
   "metadata": {},
   "source": [
    "Z racji, że nasze zmienne są w różnej skali to przeskaluje je poprzez standard scaler (x-u)/s"
   ]
  },
  {
   "cell_type": "code",
   "execution_count": 1181,
   "metadata": {},
   "outputs": [],
   "source": [
    "from sklearn.compose import ColumnTransformer\n",
    "from sklearn.datasets import fetch_openml\n",
    "from sklearn.pipeline import Pipeline\n",
    "from sklearn.impute import SimpleImputer\n",
    "from sklearn.preprocessing import StandardScaler, OneHotEncoder\n",
    "from sklearn.linear_model import LogisticRegression\n",
    "from sklearn.model_selection import train_test_split, GridSearchCV\n",
    "numeric_features = ['power', 'mileage', 'car_age','engine_displacement','seller_experience']\n",
    "numeric_transformer = Pipeline(steps=[\n",
    "    ('scaler', StandardScaler())])\n",
    "\n",
    "categorical_features = ['seller_type', 'vehicle_brand', 'fuel_type','vehicle_model', 'transmission', 'body_type','number_of_doors']\n",
    "categorical_transformer = OneHotEncoder(handle_unknown='ignore')\n",
    "\n",
    "preprocessor = ColumnTransformer(\n",
    "    transformers=[\n",
    "        ('num', numeric_transformer, numeric_features),\n",
    "        ('cat', categorical_transformer, categorical_features)])"
   ]
  },
  {
   "cell_type": "markdown",
   "metadata": {},
   "source": [
    "# Regresja liniowa"
   ]
  },
  {
   "cell_type": "code",
   "execution_count": 1182,
   "metadata": {},
   "outputs": [],
   "source": [
    "from sklearn.linear_model import LinearRegression\n",
    "from sklearn.metrics import mean_absolute_error\n",
    "clf = Pipeline(steps=[('preprocessor', preprocessor),\n",
    "                      ('regg', LinearRegression())])\n",
    "\n",
    "y = df5['price']\n",
    "X = df5.drop('price', axis=1)\n",
    "\n",
    "\n",
    "X_train, X_test, y_train, y_test = train_test_split(X, y, test_size=0.2,\n",
    "                                                    random_state=0)\n"
   ]
  },
  {
   "cell_type": "markdown",
   "metadata": {},
   "source": [
    "Wynik regresji liniowej:"
   ]
  },
  {
   "cell_type": "code",
   "execution_count": 1187,
   "metadata": {},
   "outputs": [
    {
     "name": "stdout",
     "output_type": "stream",
     "text": [
      "model score: 0.756\n"
     ]
    }
   ],
   "source": [
    "clf.fit(X_train, y_train)\n",
    "print(\"model score: %.3f\" % clf.score(X_test, y_test))\n"
   ]
  },
  {
   "cell_type": "markdown",
   "metadata": {},
   "source": [
    "Wynik regresji liniowej (MAE):"
   ]
  },
  {
   "cell_type": "code",
   "execution_count": 1058,
   "metadata": {},
   "outputs": [
    {
     "data": {
      "text/plain": [
       "21294.896116795335"
      ]
     },
     "execution_count": 1058,
     "metadata": {},
     "output_type": "execute_result"
    }
   ],
   "source": [
    "y_pred=clf.predict(X_test)\n",
    "mean_absolute_error(y_pred,y_test)"
   ]
  },
  {
   "cell_type": "markdown",
   "metadata": {},
   "source": [
    "### Z logarytmem na y"
   ]
  },
  {
   "cell_type": "code",
   "execution_count": 54,
   "metadata": {},
   "outputs": [],
   "source": [
    "df4_log=df4_log.drop(['vehicle_model'],axis=1)\n",
    "clf = Pipeline(steps=[('preprocessor', preprocessor),\n",
    "                      ('regg', LinearRegression())])\n",
    "\n",
    "y = df4_log['price']\n",
    "X = df4_log.drop('price', axis=1)\n",
    "\n",
    "\n",
    "X_train, X_test, y_train, y_test = train_test_split(X, y, test_size=0.2,\n",
    "                                                    random_state=0)\n",
    "\n"
   ]
  },
  {
   "cell_type": "markdown",
   "metadata": {},
   "source": [
    "Wynik regreji linowej (logarytm na y):"
   ]
  },
  {
   "cell_type": "code",
   "execution_count": 55,
   "metadata": {},
   "outputs": [
    {
     "name": "stdout",
     "output_type": "stream",
     "text": [
      "model score: 0.774\n"
     ]
    }
   ],
   "source": [
    "clf.fit(X_train, y_train)\n",
    "print(\"model score: %.3f\" % clf.score(X_test, y_test))\n"
   ]
  },
  {
   "cell_type": "markdown",
   "metadata": {},
   "source": [
    "# Lassso"
   ]
  },
  {
   "cell_type": "code",
   "execution_count": 1148,
   "metadata": {},
   "outputs": [
    {
     "name": "stdout",
     "output_type": "stream",
     "text": [
      "model score: 0.755\n"
     ]
    },
    {
     "name": "stderr",
     "output_type": "stream",
     "text": [
      "C:\\Users\\kacpr\\AppData\\Local\\Packages\\PythonSoftwareFoundation.Python.3.11_qbz5n2kfra8p0\\LocalCache\\local-packages\\Python311\\site-packages\\sklearn\\linear_model\\_coordinate_descent.py:656: ConvergenceWarning: Objective did not converge. You might want to increase the number of iterations. Duality gap: 551733537235.5898, tolerance: 17210557522.771896\n",
      "  model = cd_fast.sparse_enet_coordinate_descent(\n"
     ]
    }
   ],
   "source": [
    "from sklearn.linear_model import Lasso\n",
    "clf = Pipeline(steps=[('preprocessor', preprocessor),\n",
    "                      ('regg', Lasso())])\n",
    "\n",
    "y = df5['price']\n",
    "X = df5.drop('price', axis=1)\n",
    "\n",
    "\n",
    "X_train, X_test, y_train, y_test = train_test_split(X, y, test_size=0.2,\n",
    "                                                    random_state=0)\n",
    "\n",
    "clf.fit(X_train, y_train)\n",
    "print(\"model score: %.3f\" % clf.score(X_test, y_test))"
   ]
  },
  {
   "cell_type": "markdown",
   "metadata": {},
   "source": [
    "# GradientBoosting"
   ]
  },
  {
   "cell_type": "code",
   "execution_count": 1221,
   "metadata": {},
   "outputs": [],
   "source": [
    "from sklearn.ensemble import GradientBoostingRegressor\n",
    "clf = Pipeline(steps=[('preprocessor', preprocessor),\n",
    "                      ('regg', GradientBoostingRegressor())])\n",
    "y = df5['price']\n",
    "X = df5.drop('price', axis=1)\n",
    "\n",
    "\n",
    "X_train, X_test, y_train, y_test = train_test_split(X, y, test_size=0.2,\n",
    "                                                    random_state=0)\n"
   ]
  },
  {
   "cell_type": "markdown",
   "metadata": {},
   "source": [
    "Wynik GradientBoosting:"
   ]
  },
  {
   "cell_type": "code",
   "execution_count": 1222,
   "metadata": {},
   "outputs": [
    {
     "name": "stdout",
     "output_type": "stream",
     "text": [
      "model score: 0.885\n"
     ]
    }
   ],
   "source": [
    "clf.fit(X_train, y_train)\n",
    "print(\"model score: %.3f\" % clf.score(X_test, y_test))"
   ]
  },
  {
   "cell_type": "markdown",
   "metadata": {},
   "source": [
    "Wynik GradientBoosting(MAE):"
   ]
  },
  {
   "cell_type": "code",
   "execution_count": 1223,
   "metadata": {},
   "outputs": [
    {
     "data": {
      "text/plain": [
       "11564.353113685285"
      ]
     },
     "execution_count": 1223,
     "metadata": {},
     "output_type": "execute_result"
    }
   ],
   "source": [
    "y_pred=clf.predict(X_test)\n",
    "mean_absolute_error(y_test,y_pred)"
   ]
  },
  {
   "cell_type": "markdown",
   "metadata": {},
   "source": [
    "### z logarytmem"
   ]
  },
  {
   "cell_type": "code",
   "execution_count": 60,
   "metadata": {},
   "outputs": [],
   "source": [
    "clf = Pipeline(steps=[('preprocessor', preprocessor),\n",
    "                        ('regg', GradientBoostingRegressor())])\n",
    "\n",
    "y = df4_log['price']\n",
    "X = df4_log.drop('price', axis=1)\n",
    "\n",
    "\n",
    "X_train, X_test, y_train, y_test = train_test_split(X, y, test_size=0.2,\n",
    "                                                    random_state=0)\n"
   ]
  },
  {
   "cell_type": "markdown",
   "metadata": {},
   "source": [
    "Wynik GradientBoosting(logarytm na y):"
   ]
  },
  {
   "cell_type": "code",
   "execution_count": 61,
   "metadata": {},
   "outputs": [
    {
     "name": "stdout",
     "output_type": "stream",
     "text": [
      "model score: 0.898\n"
     ]
    }
   ],
   "source": [
    "clf.fit(X_train, y_train)\n",
    "print(\"model score: %.3f\" % clf.score(X_test, y_test))"
   ]
  },
  {
   "cell_type": "markdown",
   "metadata": {},
   "source": [
    "# Decision Tree"
   ]
  },
  {
   "cell_type": "code",
   "execution_count": 1218,
   "metadata": {},
   "outputs": [],
   "source": [
    "from sklearn.tree import DecisionTreeRegressor\n",
    "clf = Pipeline(steps=[('preprocessor', preprocessor),\n",
    "                      ('regg', DecisionTreeRegressor())])\n",
    "y = df5['price']\n",
    "X = df5.drop('price', axis=1)\n",
    "\n",
    "\n",
    "X_train, X_test, y_train, y_test = train_test_split(X, y, test_size=0.2,\n",
    "                                                    random_state=0)\n",
    "\n"
   ]
  },
  {
   "cell_type": "markdown",
   "metadata": {},
   "source": [
    "Wynik decision tree:"
   ]
  },
  {
   "cell_type": "code",
   "execution_count": 1219,
   "metadata": {},
   "outputs": [
    {
     "name": "stdout",
     "output_type": "stream",
     "text": [
      "model score: 0.835\n"
     ]
    }
   ],
   "source": [
    "clf.fit(X_train, y_train)\n",
    "print(\"model score: %.3f\" % clf.score(X_test, y_test))"
   ]
  },
  {
   "cell_type": "markdown",
   "metadata": {},
   "source": [
    "Wynik decision tree (MAE):"
   ]
  },
  {
   "cell_type": "code",
   "execution_count": 1220,
   "metadata": {},
   "outputs": [
    {
     "data": {
      "text/plain": [
       "11638.241962282398"
      ]
     },
     "execution_count": 1220,
     "metadata": {},
     "output_type": "execute_result"
    }
   ],
   "source": [
    "y_pred=clf.predict(X_test)\n",
    "mean_absolute_error(y_test,y_pred)"
   ]
  },
  {
   "cell_type": "markdown",
   "metadata": {},
   "source": [
    "### z logarytmem"
   ]
  },
  {
   "cell_type": "code",
   "execution_count": 65,
   "metadata": {},
   "outputs": [],
   "source": [
    "clf = Pipeline(steps=[('preprocessor', preprocessor),\n",
    "                       ('regg', DecisionTreeRegressor())])\n",
    "\n",
    "y = df4_log['price']\n",
    "X = df4_log.drop('price', axis=1)\n",
    "\n",
    "\n",
    "X_train, X_test, y_train, y_test = train_test_split(X, y, test_size=0.2,\n",
    "                                                    random_state=0)\n"
   ]
  },
  {
   "cell_type": "markdown",
   "metadata": {},
   "source": [
    "Wynik decision tree (logarytm na y):"
   ]
  },
  {
   "cell_type": "code",
   "execution_count": 66,
   "metadata": {},
   "outputs": [
    {
     "name": "stdout",
     "output_type": "stream",
     "text": [
      "model score: 0.862\n"
     ]
    }
   ],
   "source": [
    "clf.fit(X_train, y_train)\n",
    "print(\"model score: %.3f\" % clf.score(X_test, y_test))\n"
   ]
  },
  {
   "cell_type": "markdown",
   "metadata": {},
   "source": [
    "# MLP"
   ]
  },
  {
   "cell_type": "code",
   "execution_count": 1154,
   "metadata": {},
   "outputs": [],
   "source": [
    "from sklearn.neural_network import MLPRegressor\n",
    "from sklearn.metrics import mean_absolute_error\n",
    "clf = Pipeline(steps=[('preprocessor', preprocessor),\n",
    "                      ('regg', MLPRegressor())])\n",
    "y = df5['price']\n",
    "X = df5.drop('price', axis=1)\n",
    "\n",
    "\n",
    "X_train, X_test, y_train, y_test = train_test_split(X, y, test_size=0.2,\n",
    "                                                    random_state=0)\n",
    "\n"
   ]
  },
  {
   "cell_type": "markdown",
   "metadata": {},
   "source": [
    "Wynik MLP:"
   ]
  },
  {
   "cell_type": "code",
   "execution_count": 1155,
   "metadata": {},
   "outputs": [
    {
     "name": "stdout",
     "output_type": "stream",
     "text": [
      "model score: 0.756\n"
     ]
    },
    {
     "name": "stderr",
     "output_type": "stream",
     "text": [
      "C:\\Users\\kacpr\\AppData\\Local\\Packages\\PythonSoftwareFoundation.Python.3.11_qbz5n2kfra8p0\\LocalCache\\local-packages\\Python311\\site-packages\\sklearn\\neural_network\\_multilayer_perceptron.py:691: ConvergenceWarning: Stochastic Optimizer: Maximum iterations (200) reached and the optimization hasn't converged yet.\n",
      "  warnings.warn(\n"
     ]
    }
   ],
   "source": [
    "clf.fit(X_train, y_train)\n",
    "print(\"model score: %.3f\" % clf.score(X_test, y_test))"
   ]
  },
  {
   "cell_type": "markdown",
   "metadata": {},
   "source": [
    "Wynik MLP (MAE):"
   ]
  },
  {
   "cell_type": "code",
   "execution_count": null,
   "metadata": {},
   "outputs": [
    {
     "data": {
      "text/plain": [
       "13893.381835123522"
      ]
     },
     "execution_count": 1156,
     "metadata": {},
     "output_type": "execute_result"
    }
   ],
   "source": [
    "y_pred=clf.predict(X_test)\n",
    "mean_absolute_error(y_test,y_pred)"
   ]
  },
  {
   "cell_type": "markdown",
   "metadata": {},
   "source": [
    "### z logarytmem"
   ]
  },
  {
   "cell_type": "code",
   "execution_count": 70,
   "metadata": {},
   "outputs": [],
   "source": [
    "clf = Pipeline(steps=[('preprocessor', preprocessor),\n",
    "                       ('regg', MLPRegressor())])\n",
    "\n",
    "y = df4_log['price']\n",
    "X = df4_log.drop('price', axis=1)\n",
    "\n",
    "\n",
    "X_train, X_test, y_train, y_test = train_test_split(X, y, test_size=0.2,\n",
    "                                                    random_state=0)"
   ]
  },
  {
   "cell_type": "markdown",
   "metadata": {},
   "source": [
    "Wynik MLP (logarytm na y):"
   ]
  },
  {
   "cell_type": "code",
   "execution_count": 71,
   "metadata": {},
   "outputs": [
    {
     "name": "stdout",
     "output_type": "stream",
     "text": [
      "model score: 0.919\n"
     ]
    }
   ],
   "source": [
    "clf.fit(X_train, y_train)\n",
    "print(\"model score: %.3f\" % clf.score(X_test, y_test))"
   ]
  },
  {
   "cell_type": "markdown",
   "metadata": {},
   "source": [
    "# XGBOOST"
   ]
  },
  {
   "cell_type": "code",
   "execution_count": 1215,
   "metadata": {},
   "outputs": [],
   "source": [
    "import xgboost as xgb\n",
    "xgb_model=xgb.XGBRegressor(objective='reg:linear')\n",
    "clf = Pipeline(steps=[('preprocessor', preprocessor),\n",
    "                      ('regg', xgb.XGBRegressor(objective='reg:squarederror', eval_metric='mae'))])\n",
    "y = df5['price']\n",
    "X = df5.drop('price', axis=1)\n",
    "\n",
    "X_train, X_test, y_train, y_test = train_test_split(X, y, test_size=0.2, random_state=0)\n",
    "\n",
    "\n"
   ]
  },
  {
   "cell_type": "markdown",
   "metadata": {},
   "source": [
    "Wynik XGBoost:"
   ]
  },
  {
   "cell_type": "code",
   "execution_count": 1216,
   "metadata": {},
   "outputs": [
    {
     "name": "stdout",
     "output_type": "stream",
     "text": [
      "model score: 0.921\n"
     ]
    }
   ],
   "source": [
    "clf.fit(X_train, y_train)\n",
    "print(\"model score: %.3f\" % clf.score(X_test, y_test))"
   ]
  },
  {
   "cell_type": "markdown",
   "metadata": {},
   "source": [
    "Wynik XGBoost (MAE):"
   ]
  },
  {
   "cell_type": "code",
   "execution_count": 1217,
   "metadata": {},
   "outputs": [
    {
     "data": {
      "text/plain": [
       "9110.511409686385"
      ]
     },
     "execution_count": 1217,
     "metadata": {},
     "output_type": "execute_result"
    }
   ],
   "source": [
    "y_pred=clf.predict(X_test)\n",
    "mean_absolute_error(y_test,y_pred)"
   ]
  },
  {
   "cell_type": "markdown",
   "metadata": {},
   "source": [
    "### Z logarytmem"
   ]
  },
  {
   "cell_type": "code",
   "execution_count": 75,
   "metadata": {},
   "outputs": [],
   "source": [
    "clf = Pipeline(steps=[('preprocessor', preprocessor),\n",
    "                       ('regg', xgb.XGBRegressor(objective='reg:squarederror', eval_metric='mae'))])\n",
    "\n",
    "y = df4_log['price']\n",
    "X = df4_log.drop('price', axis=1)\n",
    "\n",
    "\n",
    "X_train, X_test, y_train, y_test = train_test_split(X, y, test_size=0.2,\n",
    "                                                    random_state=0)\n",
    "\n"
   ]
  },
  {
   "cell_type": "markdown",
   "metadata": {},
   "source": [
    "Wynik XGBoost (logarytm na y):"
   ]
  },
  {
   "cell_type": "code",
   "execution_count": 76,
   "metadata": {},
   "outputs": [
    {
     "name": "stdout",
     "output_type": "stream",
     "text": [
      "model score: 0.922\n"
     ]
    }
   ],
   "source": [
    "\n",
    "clf.fit(X_train, y_train)\n",
    "print(\"model score: %.3f\" % clf.score(X_test, y_test))"
   ]
  },
  {
   "cell_type": "markdown",
   "metadata": {},
   "source": [
    "# Tensorflow"
   ]
  },
  {
   "cell_type": "code",
   "execution_count": 1205,
   "metadata": {},
   "outputs": [],
   "source": [
    "import tensorflow as tf\n",
    "\n",
    "from tensorflow import keras\n",
    "from tensorflow.keras import layers\n",
    "from sklearn.metrics import r2_score"
   ]
  },
  {
   "cell_type": "code",
   "execution_count": 1206,
   "metadata": {},
   "outputs": [],
   "source": [
    "model = keras.Sequential([\n",
    "    layers.Dense(64, activation='relu'),\n",
    "    layers.Dense(64, activation='relu'),\n",
    "    layers.Dense(1)\n",
    "])\n",
    "\n",
    "model.compile(\n",
    "    optimizer=tf.keras.optimizers.Adam(0.001),\n",
    "    loss='mean_absolute_error')\n",
    "\n",
    "\n"
   ]
  },
  {
   "cell_type": "code",
   "execution_count": 1207,
   "metadata": {},
   "outputs": [],
   "source": [
    "numeric_features = ['power', 'mileage', 'car_age','engine_displacement','seller_experience']\n",
    "numeric_transformer = Pipeline(steps=[\n",
    "    ('scaler', StandardScaler())])\n",
    "\n",
    "categorical_features = ['seller_type', 'vehicle_brand', 'fuel_type','vehicle_model', 'transmission', 'body_type','number_of_doors']\n",
    "categorical_transformer = OneHotEncoder(handle_unknown='ignore')\n",
    "\n",
    "preprocessor = ColumnTransformer(\n",
    "    transformers=[\n",
    "        ('num', numeric_transformer, numeric_features),\n",
    "        ('cat', categorical_transformer, categorical_features)])\n",
    "\n",
    "y = df5['price']\n",
    "X = df5.drop('price', axis=1)\n",
    "\n",
    "X_train, X_test, y_train, y_test = train_test_split(X, y, test_size=0.2, random_state=0)\n",
    "\n",
    "X_train = preprocessor.fit_transform(X_train)\n",
    "X_test = preprocessor.transform(X_test)\n"
   ]
  },
  {
   "cell_type": "code",
   "execution_count": 1208,
   "metadata": {},
   "outputs": [
    {
     "name": "stdout",
     "output_type": "stream",
     "text": [
      "Epoch 1/20\n",
      "\u001b[1m1293/1293\u001b[0m \u001b[32m━━━━━━━━━━━━━━━━━━━━\u001b[0m\u001b[37m\u001b[0m \u001b[1m10s\u001b[0m 6ms/step - loss: 50548.2266\n",
      "Epoch 2/20\n",
      "\u001b[1m1293/1293\u001b[0m \u001b[32m━━━━━━━━━━━━━━━━━━━━\u001b[0m\u001b[37m\u001b[0m \u001b[1m12s\u001b[0m 9ms/step - loss: 18366.5566\n",
      "Epoch 3/20\n",
      "\u001b[1m1293/1293\u001b[0m \u001b[32m━━━━━━━━━━━━━━━━━━━━\u001b[0m\u001b[37m\u001b[0m \u001b[1m9s\u001b[0m 7ms/step - loss: 15547.5869\n",
      "Epoch 4/20\n",
      "\u001b[1m1293/1293\u001b[0m \u001b[32m━━━━━━━━━━━━━━━━━━━━\u001b[0m\u001b[37m\u001b[0m \u001b[1m9s\u001b[0m 7ms/step - loss: 13556.6855\n",
      "Epoch 5/20\n",
      "\u001b[1m1293/1293\u001b[0m \u001b[32m━━━━━━━━━━━━━━━━━━━━\u001b[0m\u001b[37m\u001b[0m \u001b[1m10s\u001b[0m 8ms/step - loss: 12928.6240\n",
      "Epoch 6/20\n",
      "\u001b[1m1293/1293\u001b[0m \u001b[32m━━━━━━━━━━━━━━━━━━━━\u001b[0m\u001b[37m\u001b[0m \u001b[1m13s\u001b[0m 10ms/step - loss: 11654.8125\n",
      "Epoch 7/20\n",
      "\u001b[1m1293/1293\u001b[0m \u001b[32m━━━━━━━━━━━━━━━━━━━━\u001b[0m\u001b[37m\u001b[0m \u001b[1m13s\u001b[0m 10ms/step - loss: 11227.2461\n",
      "Epoch 8/20\n",
      "\u001b[1m1293/1293\u001b[0m \u001b[32m━━━━━━━━━━━━━━━━━━━━\u001b[0m\u001b[37m\u001b[0m \u001b[1m13s\u001b[0m 10ms/step - loss: 11098.8408\n",
      "Epoch 9/20\n",
      "\u001b[1m1293/1293\u001b[0m \u001b[32m━━━━━━━━━━━━━━━━━━━━\u001b[0m\u001b[37m\u001b[0m \u001b[1m11s\u001b[0m 8ms/step - loss: 10705.1416\n",
      "Epoch 10/20\n",
      "\u001b[1m1293/1293\u001b[0m \u001b[32m━━━━━━━━━━━━━━━━━━━━\u001b[0m\u001b[37m\u001b[0m \u001b[1m12s\u001b[0m 9ms/step - loss: 10448.9961\n",
      "Epoch 11/20\n",
      "\u001b[1m1293/1293\u001b[0m \u001b[32m━━━━━━━━━━━━━━━━━━━━\u001b[0m\u001b[37m\u001b[0m \u001b[1m11s\u001b[0m 8ms/step - loss: 10321.9658\n",
      "Epoch 12/20\n",
      "\u001b[1m1293/1293\u001b[0m \u001b[32m━━━━━━━━━━━━━━━━━━━━\u001b[0m\u001b[37m\u001b[0m \u001b[1m11s\u001b[0m 8ms/step - loss: 9851.2539\n",
      "Epoch 13/20\n",
      "\u001b[1m1293/1293\u001b[0m \u001b[32m━━━━━━━━━━━━━━━━━━━━\u001b[0m\u001b[37m\u001b[0m \u001b[1m11s\u001b[0m 8ms/step - loss: 9629.3936\n",
      "Epoch 14/20\n",
      "\u001b[1m1293/1293\u001b[0m \u001b[32m━━━━━━━━━━━━━━━━━━━━\u001b[0m\u001b[37m\u001b[0m \u001b[1m11s\u001b[0m 8ms/step - loss: 9580.6426\n",
      "Epoch 15/20\n",
      "\u001b[1m1293/1293\u001b[0m \u001b[32m━━━━━━━━━━━━━━━━━━━━\u001b[0m\u001b[37m\u001b[0m \u001b[1m11s\u001b[0m 8ms/step - loss: 9596.5420\n",
      "Epoch 16/20\n",
      "\u001b[1m1293/1293\u001b[0m \u001b[32m━━━━━━━━━━━━━━━━━━━━\u001b[0m\u001b[37m\u001b[0m \u001b[1m10s\u001b[0m 8ms/step - loss: 9350.7529\n",
      "Epoch 17/20\n",
      "\u001b[1m1293/1293\u001b[0m \u001b[32m━━━━━━━━━━━━━━━━━━━━\u001b[0m\u001b[37m\u001b[0m \u001b[1m12s\u001b[0m 10ms/step - loss: 9181.5176\n",
      "Epoch 18/20\n",
      "\u001b[1m1293/1293\u001b[0m \u001b[32m━━━━━━━━━━━━━━━━━━━━\u001b[0m\u001b[37m\u001b[0m \u001b[1m11s\u001b[0m 8ms/step - loss: 9041.9648\n",
      "Epoch 19/20\n",
      "\u001b[1m1293/1293\u001b[0m \u001b[32m━━━━━━━━━━━━━━━━━━━━\u001b[0m\u001b[37m\u001b[0m \u001b[1m11s\u001b[0m 8ms/step - loss: 9227.4121\n",
      "Epoch 20/20\n",
      "\u001b[1m1293/1293\u001b[0m \u001b[32m━━━━━━━━━━━━━━━━━━━━\u001b[0m\u001b[37m\u001b[0m \u001b[1m11s\u001b[0m 8ms/step - loss: 9137.4180\n"
     ]
    }
   ],
   "source": [
    "\n",
    "# Fit the model\n",
    "history = model.fit(\n",
    "    X_train,\n",
    "    y_train,\n",
    "    epochs=20,\n",
    "    # Suppress logging.\n",
    "    verbose=1\n",
    ")"
   ]
  },
  {
   "cell_type": "markdown",
   "metadata": {},
   "source": [
    "Wynik seci neuronowej (tensorflow):"
   ]
  },
  {
   "cell_type": "code",
   "execution_count": 1214,
   "metadata": {},
   "outputs": [
    {
     "name": "stdout",
     "output_type": "stream",
     "text": [
      "\u001b[1m324/324\u001b[0m \u001b[32m━━━━━━━━━━━━━━━━━━━━\u001b[0m\u001b[37m\u001b[0m \u001b[1m4s\u001b[0m 11ms/step\n"
     ]
    },
    {
     "data": {
      "text/plain": [
       "9445.268257394107"
      ]
     },
     "execution_count": 1214,
     "metadata": {},
     "output_type": "execute_result"
    }
   ],
   "source": [
    "y_predict = model.predict(X_test)\n",
    "mean_absolute_error(y_test,y_predict)"
   ]
  },
  {
   "cell_type": "code",
   "execution_count": 1224,
   "metadata": {},
   "outputs": [
    {
     "name": "stdout",
     "output_type": "stream",
     "text": [
      "R² score: 0.846\n"
     ]
    }
   ],
   "source": [
    "from sklearn.metrics import r2_score\n",
    "\n",
    "r2 = r2_score(y_test, y_predict)\n",
    "print(\"R² score: %.3f\" % r2)"
   ]
  },
  {
   "cell_type": "markdown",
   "metadata": {},
   "source": [
    "# Podsumowanie wyników modeli"
   ]
  },
  {
   "cell_type": "markdown",
   "metadata": {},
   "source": [
    "1. Regresja liniowa uzyskała skuteczność na poziomie 0.75 (z logarytmem na y 0.77)\n",
    "2. Model GradientBoosting uzyskał 0.88 (z logarytmem na y 0.89)\n",
    "3. Model Decision Tree uzyskał 0.84 (z logarytmem na y 0.86)\n",
    "4. Model MLP uzyskał 0.86 (z logarytmem na y 0.92)\n",
    "5. Model XGBoost uzyskał 0.91 (z logarytmem na y 0.92)\n",
    "6. Model sieci neuronowej(z biblioteki tensorflow) uzyskał 0.89"
   ]
  },
  {
   "cell_type": "markdown",
   "metadata": {},
   "source": [
    "# Pytania"
   ]
  },
  {
   "cell_type": "markdown",
   "metadata": {},
   "source": [
    "1. Czy sposób wyboru przeze mnie kolumn trzeba jakoś uzasadnić? \n",
    "\n",
    "2. Czy mogę zastosować logarytm naturalny na y (cenę)? \n",
    "\n",
    "3. Czy mój dobór zmiennych jest sensowny?\n",
    "\n",
    "4. Czy przeprowadzić głębszą analizę regresji liniowej? Chodzi mi tutaj o sprawdzenie założeń, sprawdzenia wartości odstających (np. metodą Cooka), sprawdzenie współliniowości i doborze zmiennych poprzez kryterium np. AIC? \n",
    "\n",
    "5. Czy jeszcze dodałby Pan Doktor jakieś inne modele? Co jeszcze mogę dodać do mojej pracy? Pamiętam, że rozmawialiśmy o shap'ie. \n",
    "\n",
    "6. Myślę, że pracę podziele na 3 główne rozdziały - wstęp teoretyczny(opis rynku samchodów używanych w Polsce, EDA moich dancyh), Opisy użytych modeli(czyli trochę teorii o każdym modelu), Porównanie skuteczności modeli(czyli tabela z wynikami i tutaj opisuję który model poradził sobie najlepiej, może ten shap?, jakieś podsumowanie pracy). Czy to będzie okej?"
   ]
  }
 ],
 "metadata": {
  "kernelspec": {
   "display_name": "Python 3",
   "language": "python",
   "name": "python3"
  },
  "language_info": {
   "codemirror_mode": {
    "name": "ipython",
    "version": 3
   },
   "file_extension": ".py",
   "mimetype": "text/x-python",
   "name": "python",
   "nbconvert_exporter": "python",
   "pygments_lexer": "ipython3",
   "version": "3.11.9"
  }
 },
 "nbformat": 4,
 "nbformat_minor": 2
}
